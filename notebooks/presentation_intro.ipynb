{
 "metadata": {
  "name": "presentation_intro"
 },
 "nbformat": 3,
 "nbformat_minor": 0,
 "worksheets": [
  {
   "cells": [
    {
     "cell_type": "code",
     "collapsed": true,
     "input": [
      "import networkx as nx"
     ],
     "language": "python",
     "metadata": {},
     "outputs": [],
     "prompt_number": 1
    },
    {
     "cell_type": "code",
     "collapsed": true,
     "input": [
      "# Create a graph\n",
      "g = nx.Graph()"
     ],
     "language": "python",
     "metadata": {},
     "outputs": [],
     "prompt_number": 2
    },
    {
     "cell_type": "code",
     "collapsed": true,
     "input": [
      "# Add some nodes\n",
      "g.add_node(1)\n",
      "g.add_node(2)\n",
      "g.add_nodes_from(\"asdf\")"
     ],
     "language": "python",
     "metadata": {},
     "outputs": [],
     "prompt_number": 3
    },
    {
     "cell_type": "code",
     "collapsed": false,
     "input": [
      "# Show the nodes\n",
      "g.nodes()"
     ],
     "language": "python",
     "metadata": {},
     "outputs": [
      {
       "output_type": "pyout",
       "prompt_number": 4,
       "text": [
        "['a', 1, 2, 'd', 'f', 's']"
       ]
      }
     ],
     "prompt_number": 4
    },
    {
     "cell_type": "code",
     "collapsed": false,
     "input": [
      "list(g.nodes_iter())"
     ],
     "language": "python",
     "metadata": {},
     "outputs": [
      {
       "output_type": "pyout",
       "prompt_number": 5,
       "text": [
        "['a', 1, 2, 'd', 'f', 's']"
       ]
      }
     ],
     "prompt_number": 5
    },
    {
     "cell_type": "code",
     "collapsed": true,
     "input": [
      "# Get information on nodes\n",
      "g.nodes?"
     ],
     "language": "python",
     "metadata": {},
     "outputs": [],
     "prompt_number": 6
    },
    {
     "cell_type": "code",
     "collapsed": false,
     "input": [
      "# draw the network\n",
      "nx.draw(g)"
     ],
     "language": "python",
     "metadata": {},
     "outputs": [
      {
       "output_type": "display_data",
       "png": "[encoded data removed]"
      }
     ],
     "prompt_number": 7
    },
    {
     "cell_type": "code",
     "collapsed": false,
     "input": [
      "# add some edges\n",
      "g.add_edge(1,2)\n",
      "g.add_edge(1,'foo')\n",
      "nx.draw(g)"
     ],
     "language": "python",
     "metadata": {},
     "outputs": [
      {
       "output_type": "display_data",
       "png": "[encoded data removed]"
      }
     ],
     "prompt_number": 8
    },
    {
     "cell_type": "code",
     "collapsed": false,
     "input": [
      "# Everything in networkx is a dict, so you can treat everything that way\n",
      "g.__dict__"
     ],
     "language": "python",
     "metadata": {},
     "outputs": [
      {
       "output_type": "pyout",
       "prompt_number": 9,
       "text": [
        "{'adj': {1: {2: {}, 'foo': {}},\n",
        "  2: {1: {}},\n",
        "  'a': {},\n",
        "  'd': {},\n",
        "  'f': {},\n",
        "  'foo': {1: {}},\n",
        "  's': {}},\n",
        " 'edge': {1: {2: {}, 'foo': {}},\n",
        "  2: {1: {}},\n",
        "  'a': {},\n",
        "  'd': {},\n",
        "  'f': {},\n",
        "  'foo': {1: {}},\n",
        "  's': {}},\n",
        " 'graph': {},\n",
        " 'node': {1: {}, 2: {}, 'a': {}, 'd': {}, 'f': {}, 'foo': {}, 's': {}}}"
       ]
      }
     ],
     "prompt_number": 9
    },
    {
     "cell_type": "code",
     "collapsed": false,
     "input": [
      "g.node[1]\n",
      "# Is an empty dict, so let's add something"
     ],
     "language": "python",
     "metadata": {},
     "outputs": [
      {
       "output_type": "pyout",
       "prompt_number": 10,
       "text": [
        "{}"
       ]
      }
     ],
     "prompt_number": 10
    },
    {
     "cell_type": "code",
     "collapsed": true,
     "input": [
      "g.node[1]['foobar'] = 1\n",
      "g.node[2]['foobar'] = 3"
     ],
     "language": "python",
     "metadata": {},
     "outputs": [],
     "prompt_number": 11
    },
    {
     "cell_type": "code",
     "collapsed": true,
     "input": [
      "# add weight"
     ],
     "language": "python",
     "metadata": {},
     "outputs": [],
     "prompt_number": 12
    },
    {
     "cell_type": "code",
     "collapsed": false,
     "input": [
      "# undirect graph\n",
      "nx.Graph()\n",
      "# directed graph\n",
      "nx.DiGraph()"
     ],
     "language": "python",
     "metadata": {},
     "outputs": [
      {
       "output_type": "pyout",
       "prompt_number": 13,
       "text": [
        "<networkx.classes.digraph.DiGraph at 0x105c920d0>"
       ]
      }
     ],
     "prompt_number": 13
    },
    {
     "cell_type": "code",
     "collapsed": true,
     "input": [
      "g = nx.small.krackhardt_kite_graph()"
     ],
     "language": "python",
     "metadata": {},
     "outputs": [],
     "prompt_number": 14
    },
    {
     "cell_type": "code",
     "collapsed": false,
     "input": [
      "g.node"
     ],
     "language": "python",
     "metadata": {},
     "outputs": [
      {
       "output_type": "pyout",
       "prompt_number": 15,
       "text": [
        "{0: {}, 1: {}, 2: {}, 3: {}, 4: {}, 5: {}, 6: {}, 7: {}, 8: {}, 9: {}}"
       ]
      }
     ],
     "prompt_number": 15
    },
    {
     "cell_type": "code",
     "collapsed": false,
     "input": [
      "g.nodes()"
     ],
     "language": "python",
     "metadata": {},
     "outputs": [
      {
       "output_type": "pyout",
       "prompt_number": 16,
       "text": [
        "[0, 1, 2, 3, 4, 5, 6, 7, 8, 9]"
       ]
      }
     ],
     "prompt_number": 16
    },
    {
     "cell_type": "code",
     "collapsed": false,
     "input": [
      "# agency list\n",
      "g.edges()"
     ],
     "language": "python",
     "metadata": {},
     "outputs": [
      {
       "output_type": "pyout",
       "prompt_number": 17,
       "text": [
        "[(0, 1),\n",
        " (0, 2),\n",
        " (0, 3),\n",
        " (0, 5),\n",
        " (1, 3),\n",
        " (1, 4),\n",
        " (1, 6),\n",
        " (2, 3),\n",
        " (2, 5),\n",
        " (3, 4),\n",
        " (3, 5),\n",
        " (3, 6),\n",
        " (4, 6),\n",
        " (5, 6),\n",
        " (5, 7),\n",
        " (6, 7),\n",
        " (7, 8),\n",
        " (8, 9)]"
       ]
      }
     ],
     "prompt_number": 17
    },
    {
     "cell_type": "code",
     "collapsed": false,
     "input": [
      "nx.draw(g)"
     ],
     "language": "python",
     "metadata": {},
     "outputs": [
      {
       "output_type": "display_data",
       "png": "[encoded data removed]"
      }
     ],
     "prompt_number": 18
    },
    {
     "cell_type": "code",
     "collapsed": true,
     "input": [
      "d = nx.to_dict_of_dicts(g)\n",
      "# same as \n",
      "# nx.edges"
     ],
     "language": "python",
     "metadata": {},
     "outputs": [],
     "prompt_number": 19
    },
    {
     "cell_type": "code",
     "collapsed": true,
     "input": [
      "# Create a new graph from our dict_of_dicts\n",
      "g2 = nx.from_dict_of_dicts(d)"
     ],
     "language": "python",
     "metadata": {},
     "outputs": [],
     "prompt_number": 20
    },
    {
     "cell_type": "code",
     "collapsed": false,
     "input": [
      "# dumps as a json object\n",
      "import simplejson\n",
      "simplejson.dumps(nx.to_dict_of_dicts(g))"
     ],
     "language": "python",
     "metadata": {},
     "outputs": [
      {
       "output_type": "pyout",
       "prompt_number": 21,
       "text": [
        "'{\"0\": {\"1\": {}, \"2\": {}, \"3\": {}, \"5\": {}}, \"1\": {\"0\": {}, \"3\": {}, \"4\": {}, \"6\": {}}, \"2\": {\"0\": {}, \"3\": {}, \"5\": {}}, \"3\": {\"0\": {}, \"1\": {}, \"2\": {}, \"4\": {}, \"5\": {}, \"6\": {}}, \"4\": {\"1\": {}, \"3\": {}, \"6\": {}}, \"5\": {\"0\": {}, \"2\": {}, \"3\": {}, \"6\": {}, \"7\": {}}, \"6\": {\"1\": {}, \"3\": {}, \"4\": {}, \"5\": {}, \"7\": {}}, \"7\": {\"8\": {}, \"5\": {}, \"6\": {}}, \"8\": {\"9\": {}, \"7\": {}}, \"9\": {\"8\": {}}}'"
       ]
      }
     ],
     "prompt_number": 21
    },
    {
     "cell_type": "code",
     "collapsed": false,
     "input": [
      "import pickle\n",
      "s = pickle.dumps(g)\n",
      "g3 = pickle.loads(s)\n",
      "nx.draw(g3)"
     ],
     "language": "python",
     "metadata": {},
     "outputs": [
      {
       "output_type": "display_data",
       "png": "[encoded data removed]"
      }
     ],
     "prompt_number": 22
    },
    {
     "cell_type": "code",
     "collapsed": false,
     "input": [
      "# Write out to pajek to interchange data with other files\n",
      "nx.write_pajek(g, 'foo.net')\n",
      "!cat foo.net"
     ],
     "language": "python",
     "metadata": {},
     "outputs": [
      {
       "output_type": "stream",
       "stream": "stdout",
       "text": [
        "*network Krackhardt Kite Social Network\r\n",
        "*vertices 10\r\n",
        "1 0 0.0 0.0 ellipse\r\n",
        "2 1 0.0 0.0 ellipse\r\n",
        "3 2 0.0 0.0 ellipse\r\n",
        "4 3 0.0 0.0 ellipse\r\n",
        "5 4 0.0 0.0 ellipse\r\n",
        "6 5 0.0 0.0 ellipse\r\n",
        "7 6 0.0 0.0 ellipse\r\n",
        "8 7 0.0 0.0 ellipse\r\n",
        "9 8 0.0 0.0 ellipse\r\n",
        "10 9 0.0 0.0 ellipse\r\n",
        "*edges\r\n",
        "1 2 1.0\r\n",
        "1 3 1.0\r\n",
        "1 4 1.0\r\n",
        "1 6 1.0\r\n",
        "2 4 1.0\r\n",
        "2 5 1.0\r\n",
        "2 7 1.0\r\n",
        "3 4 1.0\r\n",
        "3 6 1.0\r\n",
        "4 5 1.0\r\n",
        "4 6 1.0\r\n",
        "4 7 1.0\r\n",
        "5 7 1.0\r\n",
        "6 7 1.0\r\n",
        "6 8 1.0\r\n",
        "7 8 1.0\r\n",
        "8 9 1.0\r\n",
        "9 10 1.0\r\n"
       ]
      }
     ],
     "prompt_number": 23
    },
    {
     "cell_type": "code",
     "collapsed": true,
     "input": [],
     "language": "python",
     "metadata": {},
     "outputs": [],
     "prompt_number": 23
    },
    {
     "cell_type": "code",
     "collapsed": true,
     "input": [],
     "language": "python",
     "metadata": {},
     "outputs": [],
     "prompt_number": 23
    }
   ],
   "metadata": {}
  }
 ]
}